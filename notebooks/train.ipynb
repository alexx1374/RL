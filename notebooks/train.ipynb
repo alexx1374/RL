{
 "cells": [
  {
   "cell_type": "markdown",
   "metadata": {},
   "source": [
    "Reinforcement Learning Pong Agent\n"
   ]
  },
  {
   "cell_type": "code",
   "execution_count": 1,
   "metadata": {},
   "outputs": [
    {
     "name": "stdout",
     "output_type": "stream",
     "text": [
      "Requirement already satisfied: gymnasium in c:\\users\\alexp\\onedrive\\studium\\6_semester\\reinforcement_learning\\rl\\.venv\\lib\\site-packages (0.29.1)\n",
      "Requirement already satisfied: numpy>=1.21.0 in c:\\users\\alexp\\onedrive\\studium\\6_semester\\reinforcement_learning\\rl\\.venv\\lib\\site-packages (from gymnasium) (1.26.4)\n",
      "Requirement already satisfied: cloudpickle>=1.2.0 in c:\\users\\alexp\\onedrive\\studium\\6_semester\\reinforcement_learning\\rl\\.venv\\lib\\site-packages (from gymnasium) (3.0.0)\n",
      "Requirement already satisfied: typing-extensions>=4.3.0 in c:\\users\\alexp\\onedrive\\studium\\6_semester\\reinforcement_learning\\rl\\.venv\\lib\\site-packages (from gymnasium) (4.12.0)\n",
      "Requirement already satisfied: farama-notifications>=0.0.1 in c:\\users\\alexp\\onedrive\\studium\\6_semester\\reinforcement_learning\\rl\\.venv\\lib\\site-packages (from gymnasium) (0.0.4)\n",
      "Note: you may need to restart the kernel to use updated packages.\n",
      "Requirement already satisfied: gymnasium[atari] in c:\\users\\alexp\\onedrive\\studium\\6_semester\\reinforcement_learning\\rl\\.venv\\lib\\site-packages (0.29.1)\n",
      "Requirement already satisfied: numpy>=1.21.0 in c:\\users\\alexp\\onedrive\\studium\\6_semester\\reinforcement_learning\\rl\\.venv\\lib\\site-packages (from gymnasium[atari]) (1.26.4)\n",
      "Requirement already satisfied: cloudpickle>=1.2.0 in c:\\users\\alexp\\onedrive\\studium\\6_semester\\reinforcement_learning\\rl\\.venv\\lib\\site-packages (from gymnasium[atari]) (3.0.0)\n",
      "Requirement already satisfied: typing-extensions>=4.3.0 in c:\\users\\alexp\\onedrive\\studium\\6_semester\\reinforcement_learning\\rl\\.venv\\lib\\site-packages (from gymnasium[atari]) (4.12.0)\n",
      "Requirement already satisfied: farama-notifications>=0.0.1 in c:\\users\\alexp\\onedrive\\studium\\6_semester\\reinforcement_learning\\rl\\.venv\\lib\\site-packages (from gymnasium[atari]) (0.0.4)\n",
      "Requirement already satisfied: shimmy<1.0,>=0.1.0 in c:\\users\\alexp\\onedrive\\studium\\6_semester\\reinforcement_learning\\rl\\.venv\\lib\\site-packages (from shimmy[atari]<1.0,>=0.1.0; extra == \"atari\"->gymnasium[atari]) (0.2.1)\n",
      "Requirement already satisfied: ale-py~=0.8.1 in c:\\users\\alexp\\onedrive\\studium\\6_semester\\reinforcement_learning\\rl\\.venv\\lib\\site-packages (from shimmy[atari]<1.0,>=0.1.0; extra == \"atari\"->gymnasium[atari]) (0.8.1)\n",
      "Requirement already satisfied: importlib-resources in c:\\users\\alexp\\onedrive\\studium\\6_semester\\reinforcement_learning\\rl\\.venv\\lib\\site-packages (from ale-py~=0.8.1->shimmy[atari]<1.0,>=0.1.0; extra == \"atari\"->gymnasium[atari]) (6.4.0)\n",
      "Note: you may need to restart the kernel to use updated packages.\n",
      "Requirement already satisfied: gymnasium[accept-rom-license] in c:\\users\\alexp\\onedrive\\studium\\6_semester\\reinforcement_learning\\rl\\.venv\\lib\\site-packages (0.29.1)\n",
      "Requirement already satisfied: numpy>=1.21.0 in c:\\users\\alexp\\onedrive\\studium\\6_semester\\reinforcement_learning\\rl\\.venv\\lib\\site-packages (from gymnasium[accept-rom-license]) (1.26.4)\n",
      "Requirement already satisfied: cloudpickle>=1.2.0 in c:\\users\\alexp\\onedrive\\studium\\6_semester\\reinforcement_learning\\rl\\.venv\\lib\\site-packages (from gymnasium[accept-rom-license]) (3.0.0)\n",
      "Requirement already satisfied: typing-extensions>=4.3.0 in c:\\users\\alexp\\onedrive\\studium\\6_semester\\reinforcement_learning\\rl\\.venv\\lib\\site-packages (from gymnasium[accept-rom-license]) (4.12.0)\n",
      "Requirement already satisfied: farama-notifications>=0.0.1 in c:\\users\\alexp\\onedrive\\studium\\6_semester\\reinforcement_learning\\rl\\.venv\\lib\\site-packages (from gymnasium[accept-rom-license]) (0.0.4)\n",
      "Requirement already satisfied: autorom~=0.4.2 in c:\\users\\alexp\\onedrive\\studium\\6_semester\\reinforcement_learning\\rl\\.venv\\lib\\site-packages (from autorom[accept-rom-license]~=0.4.2; extra == \"accept-rom-license\"->gymnasium[accept-rom-license]) (0.4.2)\n",
      "Requirement already satisfied: click in c:\\users\\alexp\\onedrive\\studium\\6_semester\\reinforcement_learning\\rl\\.venv\\lib\\site-packages (from autorom~=0.4.2->autorom[accept-rom-license]~=0.4.2; extra == \"accept-rom-license\"->gymnasium[accept-rom-license]) (8.1.7)\n",
      "Requirement already satisfied: requests in c:\\users\\alexp\\onedrive\\studium\\6_semester\\reinforcement_learning\\rl\\.venv\\lib\\site-packages (from autorom~=0.4.2->autorom[accept-rom-license]~=0.4.2; extra == \"accept-rom-license\"->gymnasium[accept-rom-license]) (2.32.2)\n",
      "Requirement already satisfied: tqdm in c:\\users\\alexp\\onedrive\\studium\\6_semester\\reinforcement_learning\\rl\\.venv\\lib\\site-packages (from autorom~=0.4.2->autorom[accept-rom-license]~=0.4.2; extra == \"accept-rom-license\"->gymnasium[accept-rom-license]) (4.66.4)\n",
      "Requirement already satisfied: AutoROM.accept-rom-license in c:\\users\\alexp\\onedrive\\studium\\6_semester\\reinforcement_learning\\rl\\.venv\\lib\\site-packages (from autorom[accept-rom-license]~=0.4.2; extra == \"accept-rom-license\"->gymnasium[accept-rom-license]) (0.6.1)\n",
      "Requirement already satisfied: colorama in c:\\users\\alexp\\onedrive\\studium\\6_semester\\reinforcement_learning\\rl\\.venv\\lib\\site-packages (from click->autorom~=0.4.2->autorom[accept-rom-license]~=0.4.2; extra == \"accept-rom-license\"->gymnasium[accept-rom-license]) (0.4.6)\n",
      "Requirement already satisfied: charset-normalizer<4,>=2 in c:\\users\\alexp\\onedrive\\studium\\6_semester\\reinforcement_learning\\rl\\.venv\\lib\\site-packages (from requests->autorom~=0.4.2->autorom[accept-rom-license]~=0.4.2; extra == \"accept-rom-license\"->gymnasium[accept-rom-license]) (3.3.2)\n",
      "Requirement already satisfied: idna<4,>=2.5 in c:\\users\\alexp\\onedrive\\studium\\6_semester\\reinforcement_learning\\rl\\.venv\\lib\\site-packages (from requests->autorom~=0.4.2->autorom[accept-rom-license]~=0.4.2; extra == \"accept-rom-license\"->gymnasium[accept-rom-license]) (3.7)\n",
      "Requirement already satisfied: urllib3<3,>=1.21.1 in c:\\users\\alexp\\onedrive\\studium\\6_semester\\reinforcement_learning\\rl\\.venv\\lib\\site-packages (from requests->autorom~=0.4.2->autorom[accept-rom-license]~=0.4.2; extra == \"accept-rom-license\"->gymnasium[accept-rom-license]) (2.2.1)\n",
      "Requirement already satisfied: certifi>=2017.4.17 in c:\\users\\alexp\\onedrive\\studium\\6_semester\\reinforcement_learning\\rl\\.venv\\lib\\site-packages (from requests->autorom~=0.4.2->autorom[accept-rom-license]~=0.4.2; extra == \"accept-rom-license\"->gymnasium[accept-rom-license]) (2024.2.2)\n",
      "Note: you may need to restart the kernel to use updated packages.\n"
     ]
    }
   ],
   "source": [
    "%pip install gymnasium\n",
    "%pip install gymnasium[atari]\n",
    "%pip install gymnasium[accept-rom-license]"
   ]
  },
  {
   "cell_type": "markdown",
   "metadata": {},
   "source": [
    "Imports"
   ]
  },
  {
   "cell_type": "code",
   "execution_count": 3,
   "metadata": {},
   "outputs": [],
   "source": [
    "import gymnasium as gym\n",
    "import numpy as np\n",
    "import tensorflow as tf\n",
    "from tensorflow.keras import layers, models\n",
    "from tensorflow.keras.models import load_model\n",
    "import random\n",
    "import cv2\n",
    "import matplotlib.pyplot as plt\n",
    "from IPython.display import clear_output"
   ]
  },
  {
   "cell_type": "markdown",
   "metadata": {},
   "source": [
    "Environment"
   ]
  },
  {
   "cell_type": "code",
   "execution_count": 5,
   "metadata": {},
   "outputs": [
    {
     "name": "stderr",
     "output_type": "stream",
     "text": [
      "c:\\Users\\alexp\\OneDrive\\Studium\\6_Semester\\Reinforcement_Learning\\RL\\.venv\\Lib\\site-packages\\gymnasium\\wrappers\\record_video.py:94: UserWarning: \u001b[33mWARN: Overwriting existing videos at c:\\Users\\alexp\\OneDrive\\Studium\\6_Semester\\Reinforcement_Learning\\RL\\data\\train_videos folder (try specifying a different `video_folder` for the `RecordVideo` wrapper if this is not desired)\u001b[0m\n",
      "  logger.warn(\n"
     ]
    }
   ],
   "source": [
    "# create environment\n",
    "env = gym.make(\"ALE/Pong-v5\", render_mode=\"rgb_array\")\n",
    "# record video\n",
    "env = gym.wrappers.RecordVideo(\n",
    "    env, \"data/train_videos\", episode_trigger=lambda episode_id: True, video_length=0\n",
    ")\n",
    "# reset environment\n",
    "action_space_n = env.action_space.n"
   ]
  },
  {
   "cell_type": "markdown",
   "metadata": {},
   "source": [
    "Model"
   ]
  },
  {
   "cell_type": "code",
   "execution_count": 6,
   "metadata": {},
   "outputs": [],
   "source": [
    "# hyperparameter\n",
    "learning_rate = 0.0001\n",
    "discount_factor = 0.99\n",
    "epsilon = 1.0\n",
    "epsilon_decay = 0.995\n",
    "epsilon_min = 0.01\n",
    "batch_size = 64\n",
    "num_episodes = 1000\n",
    "# number of frames to skip\n",
    "frame_skip = 10\n",
    "\n",
    "\n",
    "# model architecture\n",
    "def create_model(action_space_n: int) -> models.Model:\n",
    "    \"\"\"Create a model with the given action space.\n",
    "\n",
    "    Args:\n",
    "        action_space_n (int): Number of actions.\n",
    "\n",
    "    Returns:\n",
    "        models.Model: Model with the given action space.\n",
    "    \"\"\"\n",
    "    input_layer = layers.Input(shape=(84, 84, 4))\n",
    "    conv1 = layers.Conv2D(32, (8, 8), strides=(4, 4), activation=\"relu\")(input_layer)\n",
    "    conv2 = layers.Conv2D(64, (4, 4), strides=(2, 2), activation=\"relu\")(conv1)\n",
    "    conv3 = layers.Conv2D(64, (3, 3), strides=(1, 1), activation=\"relu\")(conv2)\n",
    "    # flatten the conv output\n",
    "    flatten = layers.Flatten()(conv3)\n",
    "    dense1 = layers.Dense(512, activation=\"relu\")(flatten)\n",
    "    output_layer = layers.Dense(action_space_n, activation=\"linear\")(dense1)\n",
    "    model = models.Model(inputs=input_layer, outputs=output_layer)\n",
    "    return model\n",
    "\n",
    "\n",
    "# agent initialization\n",
    "model = create_model(action_space_n)\n",
    "target_model = create_model(action_space_n)\n",
    "target_model.set_weights(model.get_weights())\n",
    "\n",
    "# optimizer and loss\n",
    "optimizer = tf.keras.optimizers.Adam(learning_rate)\n",
    "huber_loss = tf.keras.losses.Huber()\n",
    "\n",
    "\n",
    "class ExperienceReplayBuffer:\n",
    "    def __init__(self, capacity: int = 10000):\n",
    "        self.capacity = capacity\n",
    "        self.buffer = []\n",
    "        self.position = 0\n",
    "\n",
    "    def add(\n",
    "        self,\n",
    "        state: np.ndarray,\n",
    "        action: int,\n",
    "        reward: float,\n",
    "        next_state: np.ndarray,\n",
    "        done: bool,\n",
    "    ):\n",
    "        \"\"\"Add a new experience to the buffer.\n",
    "\n",
    "        Args:\n",
    "            state (np.ndarray): state of the environment\n",
    "            action (int): action taken in the state\n",
    "            reward (float): reward received after taking the action\n",
    "            next_state (np.ndarray): next state of the environment\n",
    "            done (bool): whether the episode is done or not\n",
    "        \"\"\"\n",
    "        if len(self.buffer) < self.capacity:\n",
    "            self.buffer.append(None)\n",
    "        self.buffer[self.position] = (state, action, reward, next_state, done)\n",
    "        self.position = (self.position + 1) % self.capacity\n",
    "\n",
    "    def sample(self, batch_size: int) -> list:\n",
    "        \"\"\"Sample a batch of experiences from the buffer.\n",
    "\n",
    "        Args:\n",
    "            batch_size (int): size of the batch to sample\n",
    "\n",
    "        Returns:\n",
    "            list: batch of experiences\n",
    "        \"\"\"\n",
    "        return zip(*random.sample(self.buffer, batch_size))\n",
    "\n",
    "\n",
    "def preprocess_state(state: np.ndarray) -> np.ndarray:\n",
    "    \"\"\"Preprocess the state.\n",
    "\n",
    "    Args:\n",
    "        state (np.ndarray): State to preprocess.\n",
    "\n",
    "    Returns:\n",
    "        np.ndarray: Preprocessed state.\n",
    "    \"\"\"\n",
    "    gray_state = cv2.cvtColor(state, cv2.COLOR_RGB2GRAY)\n",
    "    resized_state = cv2.resize(gray_state, (84, 84))\n",
    "    return resized_state.astype(np.float32) / 255.0\n",
    "\n",
    "\n",
    "def plot_results(\n",
    "    episode_rewards: list,\n",
    "    episode_lengths: list,\n",
    "    episode_losses: list,\n",
    "    epsilon_values: list,\n",
    "    save_path: str,\n",
    "):\n",
    "    \"\"\"Plot the results of the training.\n",
    "\n",
    "    Args:\n",
    "        episode_rewards (list): episode_rewards\n",
    "        episode_lengths (list): episode_lengths\n",
    "        episode_losses (list): episode_losses\n",
    "        epsilon_values (list): epsilon_values\n",
    "        save_path (str): path to save the plot\n",
    "    \"\"\"\n",
    "    plt.figure(figsize=(12, 10))\n",
    "\n",
    "    plt.subplot(4, 1, 1)\n",
    "    plt.plot(episode_rewards, label=\"Total Reward\")\n",
    "    plt.xlabel(\"Episode\")\n",
    "    plt.ylabel(\"Total Reward\")\n",
    "    plt.legend()\n",
    "\n",
    "    plt.subplot(4, 1, 2)\n",
    "    plt.plot(episode_lengths, label=\"Episode Length\")\n",
    "    plt.xlabel(\"Episode\")\n",
    "    plt.ylabel(\"Length\")\n",
    "    plt.legend()\n",
    "\n",
    "    plt.subplot(4, 1, 3)\n",
    "    plt.plot(episode_losses, label=\"Loss\")\n",
    "    plt.xlabel(\"Episode\")\n",
    "    plt.ylabel(\"Loss\")\n",
    "    plt.legend()\n",
    "\n",
    "    plt.subplot(4, 1, 4)\n",
    "    plt.plot(epsilon_values, label=\"Epsilon\")\n",
    "    plt.xlabel(\"Episode\")\n",
    "    plt.ylabel(\"Epsilon\")\n",
    "    plt.legend()\n",
    "\n",
    "    plt.tight_layout()\n",
    "\n",
    "    plt.savefig(save_path)\n",
    "    plt.show()"
   ]
  },
  {
   "cell_type": "markdown",
   "metadata": {},
   "source": [
    "Training"
   ]
  },
  {
   "cell_type": "code",
   "execution_count": null,
   "metadata": {},
   "outputs": [],
   "source": [
    "# training metrics\n",
    "episode_rewards = []\n",
    "episode_lengths = []\n",
    "episode_losses = []\n",
    "epsilon_values = []\n",
    "\n",
    "buffer = ExperienceReplayBuffer()\n",
    "best_reward = -float(\"inf\")\n",
    "\n",
    "for episode in range(num_episodes):\n",
    "    env.reset()\n",
    "    state, info = env.reset()\n",
    "    state = preprocess_state(state)\n",
    "    state = np.stack([state] * 4, axis=2)\n",
    "    done = False\n",
    "    total_reward = 0\n",
    "    step = 0\n",
    "    losses = []\n",
    "\n",
    "    while not done:\n",
    "        if np.random.rand() <= epsilon:\n",
    "            action = env.action_space.sample()\n",
    "        else:\n",
    "            action = np.argmax(model.predict(np.expand_dims(state, axis=0), verbose=0))\n",
    "\n",
    "        # Frame skipping logic\n",
    "        # for _ in range(frame_skip):\n",
    "        #    next_state, reward, done, truncated, info = env.step(action)\n",
    "        #    done = done or truncated\n",
    "        #    total_reward += reward\n",
    "        #    if done:\n",
    "        #        break\n",
    "\n",
    "        next_state, reward, done, truncated, info = env.step(action)\n",
    "        done = done or truncated\n",
    "\n",
    "        next_state = preprocess_state(next_state)\n",
    "        next_state = np.append(\n",
    "            state[:, :, 1:], np.expand_dims(next_state, axis=2), axis=2\n",
    "        )\n",
    "\n",
    "        total_reward += reward\n",
    "\n",
    "        buffer.add(state, action, reward, next_state, done)\n",
    "\n",
    "        state = next_state\n",
    "        step += 1\n",
    "\n",
    "        if len(buffer.buffer) > batch_size:\n",
    "            states, actions, rewards, next_states, dones = buffer.sample(batch_size)\n",
    "\n",
    "            # Q-Learning\n",
    "            future_rewards = target_model.predict(np.array(next_states), verbose=0)\n",
    "            dones = np.array(dones, dtype=int)\n",
    "\n",
    "            updated_q_values = rewards + discount_factor * np.max(\n",
    "                future_rewards, axis=1\n",
    "            ) * (1 - dones)\n",
    "\n",
    "            masks = tf.one_hot(actions, action_space_n)\n",
    "\n",
    "            # create a tape to record operations for automatic differentiation\n",
    "            with tf.GradientTape() as tape:\n",
    "                q_values = model(np.array(states))\n",
    "                q_action = tf.reduce_sum(tf.multiply(q_values, masks), axis=1)\n",
    "                loss = huber_loss(updated_q_values, q_action)\n",
    "                losses.append(loss.numpy())\n",
    "\n",
    "            grads = tape.gradient(loss, model.trainable_variables)\n",
    "            optimizer.apply_gradients(zip(grads, model.trainable_variables))\n",
    "\n",
    "        # print(f\"Episode: {episode + 1}, Step: {step}, Step Reward: {reward}, Total Reward: {total_reward}, Epsilon: {epsilon}\")\n",
    "\n",
    "    episode_rewards.append(total_reward)\n",
    "    episode_lengths.append(step)\n",
    "    episode_losses.append(np.mean(losses))\n",
    "    epsilon_values.append(epsilon)\n",
    "\n",
    "    print(f\"Episode {episode + 1} abgeschlossen mit {step} Schritten, Gesamtbelohnung: {total_reward}, Epsilon: {epsilon}\")\n",
    "\n",
    "    # update target model every 10 episodes\n",
    "    if episode % 10 == 0:\n",
    "        target_model.set_weights(model.get_weights())\n",
    "\n",
    "    # decay epsilon\n",
    "    epsilon = max(epsilon_min, epsilon * epsilon_decay)\n",
    "\n",
    "    # save best model\n",
    "    if total_reward > best_reward:\n",
    "        best_reward = total_reward\n",
    "        model.save(\"best_pong_v5_rl_model.keras\")\n",
    "\n",
    "    # save model every 100 episodes\n",
    "    if (episode + 1) % 100 == 0:  # save model every 100 episodes\n",
    "        model.save(f\"pong_v5_rl_model_episode_{episode + 1}.keras\")\n",
    "\n",
    "    # plot results every 25 episodes\n",
    "    if (episode + 1) % 25 == 0:\n",
    "        plot_results(\n",
    "            episode_rewards,\n",
    "            episode_lengths,\n",
    "            episode_losses,\n",
    "            epsilon_values,\n",
    "            save_path=f\"data\\plots\\pong_Plot_episode_{episode + 1}.png\",\n",
    "        )\n",
    "\n",
    "# save final model\n",
    "model.save(\"pong_rl_model.keras\")"
   ]
  },
  {
   "cell_type": "markdown",
   "metadata": {},
   "source": [
    "Evaluation"
   ]
  },
  {
   "cell_type": "code",
   "execution_count": 25,
   "metadata": {},
   "outputs": [],
   "source": [
    "# evaluation plot\n",
    "def plot_eval(episode_rewards: list, episode_lengths: list, eval_path: str):\n",
    "    \"\"\"Plot the evaluation results.\n",
    "\n",
    "    Args:\n",
    "        episode_rewards (list): rewards per episode\n",
    "        episode_lengths (list): steps per episode\n",
    "        eval_path (str): path to save the plot\n",
    "    \"\"\"\n",
    "\n",
    "    plt.figure(figsize=(12, 10))\n",
    "\n",
    "    plt.subplot(2, 1, 1)\n",
    "    plt.plot(episode_rewards, label=\"Total Reward\")\n",
    "    plt.axhline(y=np.mean(episode_rewards), color=\"r\", linestyle=\"--\", label=\"Mean Reward\")\n",
    "    plt.xlabel(\"Episode\")\n",
    "    plt.ylabel(\"Total Reward\")\n",
    "    plt.legend()\n",
    "\n",
    "    # plot episode lengths\n",
    "    plt.subplot(2, 1, 2)\n",
    "    plt.plot(episode_lengths, label=\"Episode Length\")\n",
    "    plt.xlabel(\"Episode\")\n",
    "    plt.ylabel(\"Length\")\n",
    "    plt.legend()\n",
    "\n",
    "    plt.tight_layout()\n",
    "    # save plot\n",
    "    plt.savefig(eval_path)\n",
    "    # show plot\n",
    "    plt.show()"
   ]
  },
  {
   "cell_type": "code",
   "execution_count": 26,
   "metadata": {},
   "outputs": [
    {
     "name": "stderr",
     "output_type": "stream",
     "text": [
      "c:\\Users\\alexp\\OneDrive\\Studium\\6_Semester\\Reinforcement_Learning\\RL\\.venv\\Lib\\site-packages\\gymnasium\\utils\\passive_env_checker.py:335: UserWarning: \u001b[33mWARN: No render fps was declared in the environment (env.metadata['render_fps'] is None or not defined), rendering may occur at inconsistent fps.\u001b[0m\n",
      "  logger.warn(\n"
     ]
    },
    {
     "name": "stdout",
     "output_type": "stream",
     "text": [
      "Moviepy - Building video c:\\Users\\alexp\\OneDrive\\Studium\\6_Semester\\Reinforcement_Learning\\RL\\data\\eval_videos\\rl-video-episode-0.mp4.\n",
      "Moviepy - Writing video c:\\Users\\alexp\\OneDrive\\Studium\\6_Semester\\Reinforcement_Learning\\RL\\data\\eval_videos\\rl-video-episode-0.mp4\n",
      "\n"
     ]
    },
    {
     "name": "stderr",
     "output_type": "stream",
     "text": [
      "                                                                  \r"
     ]
    },
    {
     "name": "stdout",
     "output_type": "stream",
     "text": [
      "Moviepy - Done !\n",
      "Moviepy - video ready c:\\Users\\alexp\\OneDrive\\Studium\\6_Semester\\Reinforcement_Learning\\RL\\data\\eval_videos\\rl-video-episode-0.mp4\n",
      "Total Reward: 5.0, Steps: 3296\n",
      "Moviepy - Building video c:\\Users\\alexp\\OneDrive\\Studium\\6_Semester\\Reinforcement_Learning\\RL\\data\\eval_videos\\rl-video-episode-1.mp4.\n",
      "Moviepy - Writing video c:\\Users\\alexp\\OneDrive\\Studium\\6_Semester\\Reinforcement_Learning\\RL\\data\\eval_videos\\rl-video-episode-1.mp4\n",
      "\n"
     ]
    },
    {
     "name": "stderr",
     "output_type": "stream",
     "text": [
      "                                                                  \r"
     ]
    },
    {
     "name": "stdout",
     "output_type": "stream",
     "text": [
      "Moviepy - Done !\n",
      "Moviepy - video ready c:\\Users\\alexp\\OneDrive\\Studium\\6_Semester\\Reinforcement_Learning\\RL\\data\\eval_videos\\rl-video-episode-1.mp4\n",
      "Total Reward: 15.0, Steps: 2071\n",
      "Moviepy - Building video c:\\Users\\alexp\\OneDrive\\Studium\\6_Semester\\Reinforcement_Learning\\RL\\data\\eval_videos\\rl-video-episode-2.mp4.\n",
      "Moviepy - Writing video c:\\Users\\alexp\\OneDrive\\Studium\\6_Semester\\Reinforcement_Learning\\RL\\data\\eval_videos\\rl-video-episode-2.mp4\n",
      "\n"
     ]
    },
    {
     "name": "stderr",
     "output_type": "stream",
     "text": [
      "                                                                  \r"
     ]
    },
    {
     "name": "stdout",
     "output_type": "stream",
     "text": [
      "Moviepy - Done !\n",
      "Moviepy - video ready c:\\Users\\alexp\\OneDrive\\Studium\\6_Semester\\Reinforcement_Learning\\RL\\data\\eval_videos\\rl-video-episode-2.mp4\n",
      "Total Reward: 6.0, Steps: 2984\n",
      "Moviepy - Building video c:\\Users\\alexp\\OneDrive\\Studium\\6_Semester\\Reinforcement_Learning\\RL\\data\\eval_videos\\rl-video-episode-3.mp4.\n",
      "Moviepy - Writing video c:\\Users\\alexp\\OneDrive\\Studium\\6_Semester\\Reinforcement_Learning\\RL\\data\\eval_videos\\rl-video-episode-3.mp4\n",
      "\n"
     ]
    },
    {
     "name": "stderr",
     "output_type": "stream",
     "text": [
      "                                                                  \r"
     ]
    },
    {
     "name": "stdout",
     "output_type": "stream",
     "text": [
      "Moviepy - Done !\n",
      "Moviepy - video ready c:\\Users\\alexp\\OneDrive\\Studium\\6_Semester\\Reinforcement_Learning\\RL\\data\\eval_videos\\rl-video-episode-3.mp4\n",
      "Total Reward: 10.0, Steps: 2922\n",
      "Moviepy - Building video c:\\Users\\alexp\\OneDrive\\Studium\\6_Semester\\Reinforcement_Learning\\RL\\data\\eval_videos\\rl-video-episode-4.mp4.\n",
      "Moviepy - Writing video c:\\Users\\alexp\\OneDrive\\Studium\\6_Semester\\Reinforcement_Learning\\RL\\data\\eval_videos\\rl-video-episode-4.mp4\n",
      "\n"
     ]
    },
    {
     "name": "stderr",
     "output_type": "stream",
     "text": [
      "                                                                  \r"
     ]
    },
    {
     "name": "stdout",
     "output_type": "stream",
     "text": [
      "Moviepy - Done !\n",
      "Moviepy - video ready c:\\Users\\alexp\\OneDrive\\Studium\\6_Semester\\Reinforcement_Learning\\RL\\data\\eval_videos\\rl-video-episode-4.mp4\n",
      "Total Reward: -1.0, Steps: 3336\n",
      "Moviepy - Building video c:\\Users\\alexp\\OneDrive\\Studium\\6_Semester\\Reinforcement_Learning\\RL\\data\\eval_videos\\rl-video-episode-5.mp4.\n",
      "Moviepy - Writing video c:\\Users\\alexp\\OneDrive\\Studium\\6_Semester\\Reinforcement_Learning\\RL\\data\\eval_videos\\rl-video-episode-5.mp4\n",
      "\n"
     ]
    },
    {
     "name": "stderr",
     "output_type": "stream",
     "text": [
      "                                                                  \r"
     ]
    },
    {
     "name": "stdout",
     "output_type": "stream",
     "text": [
      "Moviepy - Done !\n",
      "Moviepy - video ready c:\\Users\\alexp\\OneDrive\\Studium\\6_Semester\\Reinforcement_Learning\\RL\\data\\eval_videos\\rl-video-episode-5.mp4\n",
      "Total Reward: -1.0, Steps: 3481\n",
      "Moviepy - Building video c:\\Users\\alexp\\OneDrive\\Studium\\6_Semester\\Reinforcement_Learning\\RL\\data\\eval_videos\\rl-video-episode-6.mp4.\n",
      "Moviepy - Writing video c:\\Users\\alexp\\OneDrive\\Studium\\6_Semester\\Reinforcement_Learning\\RL\\data\\eval_videos\\rl-video-episode-6.mp4\n",
      "\n"
     ]
    },
    {
     "name": "stderr",
     "output_type": "stream",
     "text": [
      "                                                                  \r"
     ]
    },
    {
     "name": "stdout",
     "output_type": "stream",
     "text": [
      "Moviepy - Done !\n",
      "Moviepy - video ready c:\\Users\\alexp\\OneDrive\\Studium\\6_Semester\\Reinforcement_Learning\\RL\\data\\eval_videos\\rl-video-episode-6.mp4\n",
      "Total Reward: -6.0, Steps: 2903\n",
      "Moviepy - Building video c:\\Users\\alexp\\OneDrive\\Studium\\6_Semester\\Reinforcement_Learning\\RL\\data\\eval_videos\\rl-video-episode-7.mp4.\n",
      "Moviepy - Writing video c:\\Users\\alexp\\OneDrive\\Studium\\6_Semester\\Reinforcement_Learning\\RL\\data\\eval_videos\\rl-video-episode-7.mp4\n",
      "\n"
     ]
    },
    {
     "name": "stderr",
     "output_type": "stream",
     "text": [
      "                                                                  \r"
     ]
    },
    {
     "name": "stdout",
     "output_type": "stream",
     "text": [
      "Moviepy - Done !\n",
      "Moviepy - video ready c:\\Users\\alexp\\OneDrive\\Studium\\6_Semester\\Reinforcement_Learning\\RL\\data\\eval_videos\\rl-video-episode-7.mp4\n",
      "Total Reward: 11.0, Steps: 2598\n",
      "Moviepy - Building video c:\\Users\\alexp\\OneDrive\\Studium\\6_Semester\\Reinforcement_Learning\\RL\\data\\eval_videos\\rl-video-episode-8.mp4.\n",
      "Moviepy - Writing video c:\\Users\\alexp\\OneDrive\\Studium\\6_Semester\\Reinforcement_Learning\\RL\\data\\eval_videos\\rl-video-episode-8.mp4\n",
      "\n"
     ]
    },
    {
     "name": "stderr",
     "output_type": "stream",
     "text": [
      "                                                                  \r"
     ]
    },
    {
     "name": "stdout",
     "output_type": "stream",
     "text": [
      "Moviepy - Done !\n",
      "Moviepy - video ready c:\\Users\\alexp\\OneDrive\\Studium\\6_Semester\\Reinforcement_Learning\\RL\\data\\eval_videos\\rl-video-episode-8.mp4\n",
      "Total Reward: 7.0, Steps: 2659\n",
      "Moviepy - Building video c:\\Users\\alexp\\OneDrive\\Studium\\6_Semester\\Reinforcement_Learning\\RL\\data\\eval_videos\\rl-video-episode-9.mp4.\n",
      "Moviepy - Writing video c:\\Users\\alexp\\OneDrive\\Studium\\6_Semester\\Reinforcement_Learning\\RL\\data\\eval_videos\\rl-video-episode-9.mp4\n",
      "\n"
     ]
    },
    {
     "name": "stderr",
     "output_type": "stream",
     "text": [
      "                                                                  \r"
     ]
    },
    {
     "name": "stdout",
     "output_type": "stream",
     "text": [
      "Moviepy - Done !\n",
      "Moviepy - video ready c:\\Users\\alexp\\OneDrive\\Studium\\6_Semester\\Reinforcement_Learning\\RL\\data\\eval_videos\\rl-video-episode-9.mp4\n",
      "Total Reward: -2.0, Steps: 3096\n"
     ]
    },
    {
     "data": {
      "image/png": "[encoded data removed]",
      "text/plain": [
       "<Figure size 1200x1000 with 2 Axes>"
      ]
     },
     "metadata": {},
     "output_type": "display_data"
    },
    {
     "name": "stdout",
     "output_type": "stream",
     "text": [
      "Durchschnittliche Belohnung über 10 Episoden: 4.4\n"
     ]
    }
   ],
   "source": [
    "# load model\n",
    "model = load_model(\"models/pong_v5_rl_model_episode_900.keras\")\n",
    "# create environment for evaluation\n",
    "eval_env = gym.make(\"ALE/Pong-v5\", render_mode=\"rgb_array\")\n",
    "eval_env = gym.wrappers.RecordVideo(\n",
    "    eval_env, \"data/eval_videos\", episode_trigger=lambda episode_id: True, video_length=0\n",
    ")\n",
    "episode_rewards = []\n",
    "episode_lengths = []\n",
    "\n",
    "for episode in range(10):\n",
    "    total_reward = 0\n",
    "    step = 0\n",
    "    state, info = eval_env.reset()\n",
    "    state = preprocess_state(state)\n",
    "    state = np.stack([state] * 4, axis=2)\n",
    "    done = False\n",
    "    while not done:\n",
    "        action = np.argmax(model.predict(np.expand_dims(state, axis=0), verbose=0))\n",
    "        next_state, reward, done, truncated, info = eval_env.step(action)\n",
    "        done = done or truncated\n",
    "        total_reward += reward\n",
    "        next_state = preprocess_state(next_state)\n",
    "        next_state = np.append(\n",
    "            state[:, :, 1:], np.expand_dims(next_state, axis=2), axis=2\n",
    "        )\n",
    "        state = next_state\n",
    "        step += 1\n",
    "    episode_rewards.append(total_reward)\n",
    "    episode_lengths.append(step)\n",
    "    # print results\n",
    "    print(f\"Total Reward: {total_reward}, Steps: {step}\")\n",
    "\n",
    "    # plot results\n",
    "    if (episode + 1) % 10 == 0:\n",
    "        plot_eval(\n",
    "            episode_rewards,\n",
    "            episode_lengths,\n",
    "            eval_path=\"data/plots/eval_plot1.png\",\n",
    "        )\n",
    "\n",
    "# calculate average reward\n",
    "avg_reward = np.mean(episode_rewards)\n",
    "\n",
    "# print average reward\n",
    "print(\"Durchschnittliche Belohnung über\", \"10\", \"Episoden:\", avg_reward)"
   ]
  }
 ],
 "metadata": {
  "kernelspec": {
   "display_name": ".venv",
   "language": "python",
   "name": "python3"
  },
  "language_info": {
   "codemirror_mode": {
    "name": "ipython",
    "version": 3
   },
   "file_extension": ".py",
   "mimetype": "text/x-python",
   "name": "python",
   "nbconvert_exporter": "python",
   "pygments_lexer": "ipython3",
   "version": "3.11.6"
  }
 },
 "nbformat": 4,
 "nbformat_minor": 2
}
